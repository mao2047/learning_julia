{
 "cells": [
  {
   "cell_type": "code",
   "execution_count": 1,
   "id": "68b25e03",
   "metadata": {},
   "outputs": [
    {
     "name": "stdout",
     "output_type": "stream",
     "text": [
      "Ayy lmao\n"
     ]
    }
   ],
   "source": [
    "println(\"Ayy lmao\")"
   ]
  },
  {
   "cell_type": "code",
   "execution_count": null,
   "id": "63af11a8",
   "metadata": {},
   "outputs": [],
   "source": []
  }
 ],
 "metadata": {
  "kernelspec": {
   "display_name": "Julia 1.7.1",
   "language": "julia",
   "name": "julia-1.7"
  },
  "language_info": {
   "file_extension": ".jl",
   "mimetype": "application/julia",
   "name": "julia",
   "version": "1.7.1"
  }
 },
 "nbformat": 4,
 "nbformat_minor": 5
}
