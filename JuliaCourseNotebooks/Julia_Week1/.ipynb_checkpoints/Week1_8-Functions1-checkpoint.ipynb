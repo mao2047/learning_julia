{
 "cells": [
  {
   "cell_type": "code",
   "execution_count": null,
   "metadata": {},
   "outputs": [],
   "source": [
    "# Setting up a custom stylesheet in IJulia\n",
    "file = open(\"style.css\") # A .css file in the same folder as this notebook file\n",
    "styl = read(file, String) # Read the file\n",
    "HTML(\"$styl\") # Output as HTML"
   ]
  },
  {
   "cell_type": "markdown",
   "metadata": {},
   "source": [
    "# Functions in Julia I"
   ]
  },
  {
   "cell_type": "markdown",
   "metadata": {
    "collapsed": true
   },
   "source": [
    "<h2>In this lecture</h2>\n",
    "\n",
    "- [Outcome](#Outcome)\n",
    "- [Functions in Julia](#Functions-in-Julia)\n",
    "- [Command line help](#Command-line-help)\n",
    "- [Built-in mathematical functions](#Built-in-mathematical-functions)\n",
    "- [Multiple dispatch](#Multiple-dispatch)\n"
   ]
  },
  {
   "cell_type": "markdown",
   "metadata": {},
   "source": [
    "<hr>\n",
    "<h2>Outcome</h2>\n",
    "\n",
    "After this lecture, you will be able to: \n",
    "\n",
    "- Say how a Julia function works\n",
    "- Describe the difference between built-in and user-defined functions in Julia\n",
    "- List and use some basic mathematical functions\n",
    "- Describe Julia's multiple dispatch using ``muladd()`` as the example"
   ]
  },
  {
   "cell_type": "markdown",
   "metadata": {},
   "source": [
    "[Back to the top](#In-this-lecture)"
   ]
  },
  {
   "cell_type": "markdown",
   "metadata": {},
   "source": [
    "<h2>Functions in Julia</h2>\n",
    "\n",
    "Recall a recent example using the funtion ``println()``:"
   ]
  },
  {
   "cell_type": "code",
   "execution_count": null,
   "metadata": {},
   "outputs": [],
   "source": [
    "greeting = \"Hello, world!!\"\n",
    "println(greeting) "
   ]
  },
  {
   "cell_type": "markdown",
   "metadata": {},
   "source": [
    "This is a good example of the basics of how a function works: it receives some input (in this case, the value of a variable) and makes something happen (in this case, showing a string on the screen).\n",
    "\n",
    "Many a function generates a value. In fact, possibly the most common use of functions is to create values to be assigned to variables:"
   ]
  },
  {
   "cell_type": "code",
   "execution_count": 2,
   "metadata": {},
   "outputs": [
    {
     "data": {
      "text/plain": [
       "(0.9800665778412416, 2.302585092994046, 1.22)"
      ]
     },
     "execution_count": 2,
     "metadata": {},
     "output_type": "execute_result"
    }
   ],
   "source": [
    "a, b, c = cos(0.2), log(10), abs(-1.22)  # multiple assignment to three separate variables"
   ]
  },
  {
   "cell_type": "code",
   "execution_count": 4,
   "metadata": {},
   "outputs": [
    {
     "name": "stdout",
     "output_type": "stream",
     "text": [
      "Float64\n"
     ]
    }
   ],
   "source": [
    "println(typeof(a))"
   ]
  },
  {
   "cell_type": "markdown",
   "metadata": {},
   "source": [
    "Julia is a functional language, which means that in a sense the basic unit for organising code in Julia is the function. For instance, ``typeof()`` is a function that provides information which in other types of languages is obtained via other means. If you read the Julia code (it is publicly available, see www.julialang.org), you will see that virtually everything there is done via functions.\n",
    "\n",
    "This means of course that when you write code, you should also as far as possible organise your code in funtions. We address user-defined functions in Lecture 9 (the one after this one)."
   ]
  },
  {
   "cell_type": "markdown",
   "metadata": {},
   "source": [
    "[Back to the top](#In-this-lecture)"
   ]
  },
  {
   "cell_type": "markdown",
   "metadata": {},
   "source": [
    "<h2>Command line help</h2>\n",
    "\n",
    "To get help in an IJulia, type \"?\" followed by a topic. For functions, you'll get the syntax (there may be several versions) and in other cases some brief guidance. A few example queries follow, concerning ```cos```, ```help``` and\n",
    "```floor```"
   ]
  },
  {
   "cell_type": "code",
   "execution_count": 5,
   "metadata": {},
   "outputs": [
    {
     "name": "stdout",
     "output_type": "stream",
     "text": [
      "search: \u001b[0m\u001b[1mc\u001b[22m\u001b[0m\u001b[1mo\u001b[22m\u001b[0m\u001b[1ms\u001b[22m \u001b[0m\u001b[1mc\u001b[22m\u001b[0m\u001b[1mo\u001b[22m\u001b[0m\u001b[1ms\u001b[22mh \u001b[0m\u001b[1mc\u001b[22m\u001b[0m\u001b[1mo\u001b[22m\u001b[0m\u001b[1ms\u001b[22md \u001b[0m\u001b[1mc\u001b[22m\u001b[0m\u001b[1mo\u001b[22m\u001b[0m\u001b[1ms\u001b[22mc \u001b[0m\u001b[1mc\u001b[22m\u001b[0m\u001b[1mo\u001b[22m\u001b[0m\u001b[1ms\u001b[22mpi a\u001b[0m\u001b[1mc\u001b[22m\u001b[0m\u001b[1mo\u001b[22m\u001b[0m\u001b[1ms\u001b[22m a\u001b[0m\u001b[1mc\u001b[22m\u001b[0m\u001b[1mo\u001b[22m\u001b[0m\u001b[1ms\u001b[22mh a\u001b[0m\u001b[1mc\u001b[22m\u001b[0m\u001b[1mo\u001b[22m\u001b[0m\u001b[1ms\u001b[22md sin\u001b[0m\u001b[1mc\u001b[22m\u001b[0m\u001b[1mo\u001b[22m\u001b[0m\u001b[1ms\u001b[22m sin\u001b[0m\u001b[1mc\u001b[22m\u001b[0m\u001b[1mo\u001b[22m\u001b[0m\u001b[1ms\u001b[22md sin\u001b[0m\u001b[1mc\u001b[22m\u001b[0m\u001b[1mo\u001b[22m\u001b[0m\u001b[1ms\u001b[22mpi \u001b[0m\u001b[1mc\u001b[22m\u001b[0m\u001b[1mo\u001b[22mn\u001b[0m\u001b[1ms\u001b[22mt\n",
      "\n"
     ]
    },
    {
     "data": {
      "text/latex": [
       "\\begin{verbatim}\n",
       "cos(x)\n",
       "\\end{verbatim}\n",
       "Compute cosine of \\texttt{x}, where \\texttt{x} is in radians.\n",
       "\n",
       "See also [\\texttt{cosd}], [\\texttt{cospi}], [\\texttt{sincos}], [\\texttt{cis}].\n",
       "\n",
       "\\rule{\\textwidth}{1pt}\n",
       "\\begin{verbatim}\n",
       "cos(A::AbstractMatrix)\n",
       "\\end{verbatim}\n",
       "Compute the matrix cosine of a square matrix \\texttt{A}.\n",
       "\n",
       "If \\texttt{A} is symmetric or Hermitian, its eigendecomposition (\\href{@ref}{\\texttt{eigen}}) is used to compute the cosine. Otherwise, the cosine is determined by calling \\href{@ref}{\\texttt{exp}}.\n",
       "\n",
       "\\section{Examples}\n",
       "\\begin{verbatim}\n",
       "julia> cos(fill(1.0, (2,2)))\n",
       "2×2 Matrix{Float64}:\n",
       "  0.291927  -0.708073\n",
       " -0.708073   0.291927\n",
       "\\end{verbatim}\n"
      ],
      "text/markdown": [
       "```\n",
       "cos(x)\n",
       "```\n",
       "\n",
       "Compute cosine of `x`, where `x` is in radians.\n",
       "\n",
       "See also [`cosd`], [`cospi`], [`sincos`], [`cis`].\n",
       "\n",
       "---\n",
       "\n",
       "```\n",
       "cos(A::AbstractMatrix)\n",
       "```\n",
       "\n",
       "Compute the matrix cosine of a square matrix `A`.\n",
       "\n",
       "If `A` is symmetric or Hermitian, its eigendecomposition ([`eigen`](@ref)) is used to compute the cosine. Otherwise, the cosine is determined by calling [`exp`](@ref).\n",
       "\n",
       "# Examples\n",
       "\n",
       "```jldoctest\n",
       "julia> cos(fill(1.0, (2,2)))\n",
       "2×2 Matrix{Float64}:\n",
       "  0.291927  -0.708073\n",
       " -0.708073   0.291927\n",
       "```\n"
      ],
      "text/plain": [
       "\u001b[36m  cos(x)\u001b[39m\n",
       "\n",
       "  Compute cosine of \u001b[36mx\u001b[39m, where \u001b[36mx\u001b[39m is in radians.\n",
       "\n",
       "  See also [\u001b[36mcosd\u001b[39m], [\u001b[36mcospi\u001b[39m], [\u001b[36msincos\u001b[39m], [\u001b[36mcis\u001b[39m].\n",
       "\n",
       "  ────────────────────────────────────────────────────────────────────────────\n",
       "\n",
       "\u001b[36m  cos(A::AbstractMatrix)\u001b[39m\n",
       "\n",
       "  Compute the matrix cosine of a square matrix \u001b[36mA\u001b[39m.\n",
       "\n",
       "  If \u001b[36mA\u001b[39m is symmetric or Hermitian, its eigendecomposition (\u001b[36meigen\u001b[39m) is used to\n",
       "  compute the cosine. Otherwise, the cosine is determined by calling \u001b[36mexp\u001b[39m.\n",
       "\n",
       "\u001b[1m  Examples\u001b[22m\n",
       "\u001b[1m  ≡≡≡≡≡≡≡≡≡≡\u001b[22m\n",
       "\n",
       "\u001b[36m  julia> cos(fill(1.0, (2,2)))\u001b[39m\n",
       "\u001b[36m  2×2 Matrix{Float64}:\u001b[39m\n",
       "\u001b[36m    0.291927  -0.708073\u001b[39m\n",
       "\u001b[36m   -0.708073   0.291927\u001b[39m"
      ]
     },
     "execution_count": 5,
     "metadata": {},
     "output_type": "execute_result"
    }
   ],
   "source": [
    "? cos # a standard maths function gives what you expect, with bonus for explaining what happens to arrays\n"
   ]
  },
  {
   "cell_type": "code",
   "execution_count": 7,
   "metadata": {},
   "outputs": [
    {
     "name": "stdout",
     "output_type": "stream",
     "text": [
      "search: \u001b[0m\u001b[1mh\u001b[22m\u001b[0m\u001b[1me\u001b[22m\u001b[0m\u001b[1ml\u001b[22m\u001b[0m\u001b[1mp\u001b[22m sc\u001b[0m\u001b[1mh\u001b[22m\u001b[0m\u001b[1me\u001b[22mdu\u001b[0m\u001b[1ml\u001b[22me C\u001b[0m\u001b[1mh\u001b[22mann\u001b[0m\u001b[1me\u001b[22m\u001b[0m\u001b[1ml\u001b[22m \u001b[0m\u001b[1mh\u001b[22masfi\u001b[0m\u001b[1me\u001b[22m\u001b[0m\u001b[1ml\u001b[22md @t\u001b[0m\u001b[1mh\u001b[22mr\u001b[0m\u001b[1me\u001b[22madca\u001b[0m\u001b[1ml\u001b[22ml AbstractC\u001b[0m\u001b[1mh\u001b[22mann\u001b[0m\u001b[1me\u001b[22m\u001b[0m\u001b[1ml\u001b[22m\n",
      "\n"
     ]
    },
    {
     "data": {
      "text/latex": [
       "\\textbf{Welcome to Julia 1.7.1.} The full manual is available at\n",
       "\n",
       "\\begin{verbatim}\n",
       "https://docs.julialang.org\n",
       "\\end{verbatim}\n",
       "as well as many great tutorials and learning resources:\n",
       "\n",
       "\\begin{verbatim}\n",
       "https://julialang.org/learning/\n",
       "\\end{verbatim}\n",
       "For help on a specific function or macro, type \\texttt{?} followed by its name, e.g. \\texttt{?cos}, or \\texttt{?@time}, and press enter. Type \\texttt{;} to enter shell mode, \\texttt{]} to enter package mode.\n",
       "\n"
      ],
      "text/markdown": [
       "**Welcome to Julia 1.7.1.** The full manual is available at\n",
       "\n",
       "```\n",
       "https://docs.julialang.org\n",
       "```\n",
       "\n",
       "as well as many great tutorials and learning resources:\n",
       "\n",
       "```\n",
       "https://julialang.org/learning/\n",
       "```\n",
       "\n",
       "For help on a specific function or macro, type `?` followed by its name, e.g. `?cos`, or `?@time`, and press enter. Type `;` to enter shell mode, `]` to enter package mode.\n"
      ],
      "text/plain": [
       "  \u001b[1mWelcome to Julia 1.7.1.\u001b[22m The full manual is available at\n",
       "\n",
       "\u001b[36m  https://docs.julialang.org\u001b[39m\n",
       "\n",
       "  as well as many great tutorials and learning resources:\n",
       "\n",
       "\u001b[36m  https://julialang.org/learning/\u001b[39m\n",
       "\n",
       "  For help on a specific function or macro, type \u001b[36m?\u001b[39m followed by its name, e.g.\n",
       "  \u001b[36m?cos\u001b[39m, or \u001b[36m?@time\u001b[39m, and press enter. Type \u001b[36m;\u001b[39m to enter shell mode, \u001b[36m]\u001b[39m to enter\n",
       "  package mode."
      ]
     },
     "execution_count": 7,
     "metadata": {},
     "output_type": "execute_result"
    }
   ],
   "source": [
    "?help   # space or not after after \"?\" makes no difference (but hopping to a new line does!)"
   ]
  },
  {
   "cell_type": "markdown",
   "metadata": {},
   "source": [
    "Ah well, asking for help in general isn't that helpful ... the right particular question gets good help, but they can be hard to find."
   ]
  },
  {
   "cell_type": "code",
   "execution_count": 6,
   "metadata": {},
   "outputs": [
    {
     "name": "stdout",
     "output_type": "stream",
     "text": [
      "search: \u001b[0m\u001b[1mf\u001b[22m\u001b[0m\u001b[1ml\u001b[22m\u001b[0m\u001b[1mo\u001b[22m\u001b[0m\u001b[1mo\u001b[22m\u001b[0m\u001b[1mr\u001b[22m Over\u001b[0m\u001b[1mf\u001b[22m\u001b[0m\u001b[1ml\u001b[22m\u001b[0m\u001b[1mo\u001b[22mwErr\u001b[0m\u001b[1mo\u001b[22m\u001b[0m\u001b[1mr\u001b[22m StackOver\u001b[0m\u001b[1mf\u001b[22m\u001b[0m\u001b[1ml\u001b[22m\u001b[0m\u001b[1mo\u001b[22mwErr\u001b[0m\u001b[1mo\u001b[22m\u001b[0m\u001b[1mr\u001b[22m\n",
      "\n"
     ]
    },
    {
     "data": {
      "text/latex": [
       "\\begin{verbatim}\n",
       "floor([T,] x)\n",
       "floor(x; digits::Integer= [, base = 10])\n",
       "floor(x; sigdigits::Integer= [, base = 10])\n",
       "\\end{verbatim}\n",
       "\\texttt{floor(x)} returns the nearest integral value of the same type as \\texttt{x} that is less than or equal to \\texttt{x}.\n",
       "\n",
       "\\texttt{floor(T, x)} converts the result to type \\texttt{T}, throwing an \\texttt{InexactError} if the value is not representable.\n",
       "\n",
       "Keywords \\texttt{digits}, \\texttt{sigdigits} and \\texttt{base} work as for \\href{@ref}{\\texttt{round}}.\n",
       "\n",
       "\\rule{\\textwidth}{1pt}\n",
       "\\begin{verbatim}\n",
       "floor(x::Period, precision::T) where T <: Union{TimePeriod, Week, Day} -> T\n",
       "\\end{verbatim}\n",
       "Round \\texttt{x} down to the nearest multiple of \\texttt{precision}. If \\texttt{x} and \\texttt{precision} are different subtypes of \\texttt{Period}, the return value will have the same type as \\texttt{precision}.\n",
       "\n",
       "For convenience, \\texttt{precision} may be a type instead of a value: \\texttt{floor(x, Dates.Hour)} is a shortcut for \\texttt{floor(x, Dates.Hour(1))}.\n",
       "\n",
       "\\begin{verbatim}\n",
       "julia> floor(Dates.Day(16), Dates.Week)\n",
       "2 weeks\n",
       "\n",
       "julia> floor(Dates.Minute(44), Dates.Minute(15))\n",
       "30 minutes\n",
       "\n",
       "julia> floor(Dates.Hour(36), Dates.Day)\n",
       "1 day\n",
       "\\end{verbatim}\n",
       "Rounding to a \\texttt{precision} of \\texttt{Month}s or \\texttt{Year}s is not supported, as these \\texttt{Period}s are of inconsistent length.\n",
       "\n",
       "\\rule{\\textwidth}{1pt}\n",
       "\\begin{verbatim}\n",
       "floor(dt::TimeType, p::Period) -> TimeType\n",
       "\\end{verbatim}\n",
       "Return the nearest \\texttt{Date} or \\texttt{DateTime} less than or equal to \\texttt{dt} at resolution \\texttt{p}.\n",
       "\n",
       "For convenience, \\texttt{p} may be a type instead of a value: \\texttt{floor(dt, Dates.Hour)} is a shortcut for \\texttt{floor(dt, Dates.Hour(1))}.\n",
       "\n",
       "\\begin{verbatim}\n",
       "julia> floor(Date(1985, 8, 16), Dates.Month)\n",
       "1985-08-01\n",
       "\n",
       "julia> floor(DateTime(2013, 2, 13, 0, 31, 20), Dates.Minute(15))\n",
       "2013-02-13T00:30:00\n",
       "\n",
       "julia> floor(DateTime(2016, 8, 6, 12, 0, 0), Dates.Day)\n",
       "2016-08-06T00:00:00\n",
       "\\end{verbatim}\n"
      ],
      "text/markdown": [
       "```\n",
       "floor([T,] x)\n",
       "floor(x; digits::Integer= [, base = 10])\n",
       "floor(x; sigdigits::Integer= [, base = 10])\n",
       "```\n",
       "\n",
       "`floor(x)` returns the nearest integral value of the same type as `x` that is less than or equal to `x`.\n",
       "\n",
       "`floor(T, x)` converts the result to type `T`, throwing an `InexactError` if the value is not representable.\n",
       "\n",
       "Keywords `digits`, `sigdigits` and `base` work as for [`round`](@ref).\n",
       "\n",
       "---\n",
       "\n",
       "```\n",
       "floor(x::Period, precision::T) where T <: Union{TimePeriod, Week, Day} -> T\n",
       "```\n",
       "\n",
       "Round `x` down to the nearest multiple of `precision`. If `x` and `precision` are different subtypes of `Period`, the return value will have the same type as `precision`.\n",
       "\n",
       "For convenience, `precision` may be a type instead of a value: `floor(x, Dates.Hour)` is a shortcut for `floor(x, Dates.Hour(1))`.\n",
       "\n",
       "```jldoctest\n",
       "julia> floor(Dates.Day(16), Dates.Week)\n",
       "2 weeks\n",
       "\n",
       "julia> floor(Dates.Minute(44), Dates.Minute(15))\n",
       "30 minutes\n",
       "\n",
       "julia> floor(Dates.Hour(36), Dates.Day)\n",
       "1 day\n",
       "```\n",
       "\n",
       "Rounding to a `precision` of `Month`s or `Year`s is not supported, as these `Period`s are of inconsistent length.\n",
       "\n",
       "---\n",
       "\n",
       "```\n",
       "floor(dt::TimeType, p::Period) -> TimeType\n",
       "```\n",
       "\n",
       "Return the nearest `Date` or `DateTime` less than or equal to `dt` at resolution `p`.\n",
       "\n",
       "For convenience, `p` may be a type instead of a value: `floor(dt, Dates.Hour)` is a shortcut for `floor(dt, Dates.Hour(1))`.\n",
       "\n",
       "```jldoctest\n",
       "julia> floor(Date(1985, 8, 16), Dates.Month)\n",
       "1985-08-01\n",
       "\n",
       "julia> floor(DateTime(2013, 2, 13, 0, 31, 20), Dates.Minute(15))\n",
       "2013-02-13T00:30:00\n",
       "\n",
       "julia> floor(DateTime(2016, 8, 6, 12, 0, 0), Dates.Day)\n",
       "2016-08-06T00:00:00\n",
       "```\n"
      ],
      "text/plain": [
       "\u001b[36m  floor([T,] x)\u001b[39m\n",
       "\u001b[36m  floor(x; digits::Integer= [, base = 10])\u001b[39m\n",
       "\u001b[36m  floor(x; sigdigits::Integer= [, base = 10])\u001b[39m\n",
       "\n",
       "  \u001b[36mfloor(x)\u001b[39m returns the nearest integral value of the same type as \u001b[36mx\u001b[39m that is\n",
       "  less than or equal to \u001b[36mx\u001b[39m.\n",
       "\n",
       "  \u001b[36mfloor(T, x)\u001b[39m converts the result to type \u001b[36mT\u001b[39m, throwing an \u001b[36mInexactError\u001b[39m if the\n",
       "  value is not representable.\n",
       "\n",
       "  Keywords \u001b[36mdigits\u001b[39m, \u001b[36msigdigits\u001b[39m and \u001b[36mbase\u001b[39m work as for \u001b[36mround\u001b[39m.\n",
       "\n",
       "  ────────────────────────────────────────────────────────────────────────────\n",
       "\n",
       "\u001b[36m  floor(x::Period, precision::T) where T <: Union{TimePeriod, Week, Day} -> T\u001b[39m\n",
       "\n",
       "  Round \u001b[36mx\u001b[39m down to the nearest multiple of \u001b[36mprecision\u001b[39m. If \u001b[36mx\u001b[39m and \u001b[36mprecision\u001b[39m are\n",
       "  different subtypes of \u001b[36mPeriod\u001b[39m, the return value will have the same type as\n",
       "  \u001b[36mprecision\u001b[39m.\n",
       "\n",
       "  For convenience, \u001b[36mprecision\u001b[39m may be a type instead of a value: \u001b[36mfloor(x,\n",
       "  Dates.Hour)\u001b[39m is a shortcut for \u001b[36mfloor(x, Dates.Hour(1))\u001b[39m.\n",
       "\n",
       "\u001b[36m  julia> floor(Dates.Day(16), Dates.Week)\u001b[39m\n",
       "\u001b[36m  2 weeks\u001b[39m\n",
       "\u001b[36m  \u001b[39m\n",
       "\u001b[36m  julia> floor(Dates.Minute(44), Dates.Minute(15))\u001b[39m\n",
       "\u001b[36m  30 minutes\u001b[39m\n",
       "\u001b[36m  \u001b[39m\n",
       "\u001b[36m  julia> floor(Dates.Hour(36), Dates.Day)\u001b[39m\n",
       "\u001b[36m  1 day\u001b[39m\n",
       "\n",
       "  Rounding to a \u001b[36mprecision\u001b[39m of \u001b[36mMonth\u001b[39ms or \u001b[36mYear\u001b[39ms is not supported, as these\n",
       "  \u001b[36mPeriod\u001b[39ms are of inconsistent length.\n",
       "\n",
       "  ────────────────────────────────────────────────────────────────────────────\n",
       "\n",
       "\u001b[36m  floor(dt::TimeType, p::Period) -> TimeType\u001b[39m\n",
       "\n",
       "  Return the nearest \u001b[36mDate\u001b[39m or \u001b[36mDateTime\u001b[39m less than or equal to \u001b[36mdt\u001b[39m at resolution\n",
       "  \u001b[36mp\u001b[39m.\n",
       "\n",
       "  For convenience, \u001b[36mp\u001b[39m may be a type instead of a value: \u001b[36mfloor(dt, Dates.Hour)\u001b[39m\n",
       "  is a shortcut for \u001b[36mfloor(dt, Dates.Hour(1))\u001b[39m.\n",
       "\n",
       "\u001b[36m  julia> floor(Date(1985, 8, 16), Dates.Month)\u001b[39m\n",
       "\u001b[36m  1985-08-01\u001b[39m\n",
       "\u001b[36m  \u001b[39m\n",
       "\u001b[36m  julia> floor(DateTime(2013, 2, 13, 0, 31, 20), Dates.Minute(15))\u001b[39m\n",
       "\u001b[36m  2013-02-13T00:30:00\u001b[39m\n",
       "\u001b[36m  \u001b[39m\n",
       "\u001b[36m  julia> floor(DateTime(2016, 8, 6, 12, 0, 0), Dates.Day)\u001b[39m\n",
       "\u001b[36m  2016-08-06T00:00:00\u001b[39m"
      ]
     },
     "execution_count": 6,
     "metadata": {},
     "output_type": "execute_result"
    }
   ],
   "source": [
    "? floor"
   ]
  },
  {
   "cell_type": "markdown",
   "metadata": {},
   "source": [
    "... while in this case the help may be a bit too detailed! It does alert you to the variety of outputs that ```floor``` can give you. Which one you get depends on the type signature of the variables you provide, and this is your first sight of one of Julia's greatest features: multiple dispatch. More on this feature below, though on this course you only glimpse its power (it is at the heart of much that makes Julia such a wonderful language)."
   ]
  },
  {
   "cell_type": "markdown",
   "metadata": {},
   "source": [
    "**This rapid, concise help is a wonderful resource to have on hand. USE IT OFTEN,    especially for spelling and syntax.**"
   ]
  },
  {
   "cell_type": "markdown",
   "metadata": {},
   "source": [
    "[Back to the top](#In-this-lecture)"
   ]
  },
  {
   "cell_type": "markdown",
   "metadata": {},
   "source": [
    "<h2>Built-in mathematical functions</h2>\n",
    "\n",
    "Julia has many built-in functions, and for scientific and technical computing the most important of these are mathematical. The following lists a very small part of what is available:\n",
    "\n",
    "``exp()``\n",
    "\n",
    "``log()``    ...  NB! this is the *natural* logarithm\n",
    "\n",
    "``log10()``  ...    *this* is the logarithm to base 10\n",
    "\n",
    "\n",
    "``cos()``    ... argument must be in radians\n",
    "\n",
    "``sin()``\n",
    "\n",
    "``tan()``\n",
    "\n",
    "``acos()``   ... the result is a value in radians\n",
    "\n",
    "``asin()``\n",
    "\n",
    "``atan(x)``   ...  NB! this only returns some angles (between -π/2 and π/2, to be exact)\n",
    "\n",
    "``atan(y,x)``  ... The *atan2* of many languages (including Python and Matlab); use this to get angles from quadrants two and three; it requires two inputs\n",
    "\n",
    "\n",
    "``floor()``\n",
    "\n",
    "``ceil()``\n",
    "\n",
    "``rem()``\n",
    "\n",
    "``round()``  ... use round(Int, x) to convert any x of abstract type Real to an integer type (usually Int64)  \n",
    "\n",
    "**DO EXPLORE THESE USING THE \"?\" QUERY METHOD!**"
   ]
  },
  {
   "cell_type": "markdown",
   "metadata": {},
   "source": [
    "And if you enter the first one or more letters of a function, and press Tab, you'll see a list of possible completions. This includes all the available function names that start with that letter or letter. This is a good way to search for function names. For example:"
   ]
  },
  {
   "cell_type": "code",
   "execution_count": 8,
   "metadata": {},
   "outputs": [
    {
     "ename": "LoadError",
     "evalue": "UndefVarError: d not defined",
     "output_type": "error",
     "traceback": [
      "UndefVarError: d not defined",
      "",
      "Stacktrace:",
      " [1] top-level scope",
      "   @ :0",
      " [2] eval",
      "   @ ./boot.jl:373 [inlined]",
      " [3] include_string(mapexpr::typeof(REPL.softscope), mod::Module, code::String, filename::String)",
      "   @ Base ./loading.jl:1196"
     ]
    }
   ],
   "source": [
    "d      # Tab to show completions, use up and down arrows to scroll the list in box"
   ]
  },
  {
   "cell_type": "markdown",
   "metadata": {},
   "source": [
    "[Back to the top](#In-this-lecture)"
   ]
  },
  {
   "cell_type": "markdown",
   "metadata": {},
   "source": [
    "<h2>Multiple dispatch</h2>\n",
    "\n",
    "This is related to the fact that many functions allow, or even require, more than one input value. For example, ``binomial`` requires two values, and ``muladd()`` requires three (look them up!).\n",
    "\n",
    "Moreover, functions must accept inputs of more than one type. For instance, if we enter ``cos(1)`` then we are sending a value with type ``Int64`` to Julia's ``cos()`` function. And if we enter \"``cos(1.)`` we are sending a value of type ``Float64``. But the value created by Julia's ``cos()`` function in both cases is 0.5403023058681398.\n",
    "\n",
    "Which is exactly what we want, of course. BUT!\n",
    "\n",
    "A function name points to a code body. When the code actually executes, it should be specialised on one type, else it will run very slowly, if at all. A function such as ``cos()`` actually has several such code bodies, to deal with inputs of different types. These are called the *methods* of that function. So how do Julia functions manage to have only one name, but many methods?\n",
    "\n",
    "The answer is multiple dispatch: Julia allows many methods, as long as they differ according to input type. All the input values are used to check this, hence the name multiple dispatch. The pattern of types in the input values in a given function call is its *type signature*. For example, ``muladd()`` has 12 permissible type signatures, which we see by using the function methods():"
   ]
  },
  {
   "cell_type": "code",
   "execution_count": 9,
   "metadata": {},
   "outputs": [
    {
     "data": {
      "text/html": [
       "# 21 methods for generic function <b>muladd</b>:<ul><li> muladd(A::<b>Union{LinearAlgebra.Adjoint{var\"#s859\", <:StridedMatrix{T} where T}, LinearAlgebra.Transpose{var\"#s859\", <:StridedMatrix{T} where T}, StridedMatrix{var\"#s859\"}} where var\"#s859\"<:Number</b>, y::<b>AbstractVector{<:Number}</b>, z::<b>Union{Number, AbstractVector}</b>) in LinearAlgebra at <a href=\"file:///build/julia/src/julia-1.7.1/usr/share/julia/stdlib/v1.7/LinearAlgebra/src/matmul.jl\" target=\"_blank\">/usr/share/julia/stdlib/v1.7/LinearAlgebra/src/matmul.jl:238</a></li> <li> muladd(A::<b>Union{LinearAlgebra.Adjoint{var\"#s859\", <:StridedMatrix{T} where T}, LinearAlgebra.Transpose{var\"#s859\", <:StridedMatrix{T} where T}, StridedMatrix{var\"#s859\"}} where var\"#s859\"<:Number</b>, B::<b>Union{LinearAlgebra.Adjoint{var\"#s858\", <:StridedMatrix{T} where T}, LinearAlgebra.Transpose{var\"#s858\", <:StridedMatrix{T} where T}, StridedMatrix{var\"#s858\"}} where var\"#s858\"<:Number</b>, z::<b>Union{Number, AbstractVecOrMat}</b>) in LinearAlgebra at <a href=\"file:///build/julia/src/julia-1.7.1/usr/share/julia/stdlib/v1.7/LinearAlgebra/src/matmul.jl\" target=\"_blank\">/usr/share/julia/stdlib/v1.7/LinearAlgebra/src/matmul.jl:245</a></li> <li> muladd(x::<b>Real</b>, z::<b>Complex</b>, y::<b>Number</b>) in Base at <a href=\"https://github.com/JuliaLang/julia/tree/ac5cc99908d463582e66db3368b9b48fae1e2525/base/complex.jl#L336\" target=\"_blank\">complex.jl:336</a></li> <li> muladd(x::<b>Real</b>, y::<b>Real</b>, z::<b>Complex</b>) in Base at <a href=\"https://github.com/JuliaLang/julia/tree/ac5cc99908d463582e66db3368b9b48fae1e2525/base/complex.jl#L340\" target=\"_blank\">complex.jl:340</a></li> <li> muladd(A::<b>LinearAlgebra.UniformScaling</b>, B::<b>LinearAlgebra.UniformScaling</b>, z::<b>LinearAlgebra.UniformScaling</b>) in LinearAlgebra at <a href=\"file:///build/julia/src/julia-1.7.1/usr/share/julia/stdlib/v1.7/LinearAlgebra/src/uniformscaling.jl\" target=\"_blank\">/usr/share/julia/stdlib/v1.7/LinearAlgebra/src/uniformscaling.jl:511</a></li> <li> muladd(x::<b>LinearAlgebra.Transpose{T, <:AbstractVector} where T</b>, A::<b>AbstractMatrix</b>, z::<b>Union{Number, AbstractVecOrMat}</b>) in LinearAlgebra at <a href=\"file:///build/julia/src/julia-1.7.1/usr/share/julia/stdlib/v1.7/LinearAlgebra/src/matmul.jl\" target=\"_blank\">/usr/share/julia/stdlib/v1.7/LinearAlgebra/src/matmul.jl:233</a></li> <li> muladd(u::<b>AbstractVector</b>, v::<b>Union{LinearAlgebra.Adjoint{T, var\"#s859\"}, LinearAlgebra.Transpose{T, var\"#s859\"}} where {T, var\"#s859\"<:(AbstractVector)}</b>, z::<b>Union{Number, AbstractArray}</b>) in LinearAlgebra at <a href=\"file:///build/julia/src/julia-1.7.1/usr/share/julia/stdlib/v1.7/LinearAlgebra/src/matmul.jl\" target=\"_blank\">/usr/share/julia/stdlib/v1.7/LinearAlgebra/src/matmul.jl:218</a></li> <li> muladd(A::<b>LinearAlgebra.Diagonal</b>, B::<b>LinearAlgebra.Diagonal</b>, z::<b>LinearAlgebra.Diagonal</b>) in LinearAlgebra at <a href=\"file:///build/julia/src/julia-1.7.1/usr/share/julia/stdlib/v1.7/LinearAlgebra/src/diagonal.jl\" target=\"_blank\">/usr/share/julia/stdlib/v1.7/LinearAlgebra/src/diagonal.jl:746</a></li> <li> muladd(A::<b>Union{LinearAlgebra.Diagonal, LinearAlgebra.UniformScaling}</b>, B::<b>Union{LinearAlgebra.Diagonal, LinearAlgebra.UniformScaling}</b>, z::<b>Union{LinearAlgebra.Diagonal, LinearAlgebra.UniformScaling}</b>) in LinearAlgebra at <a href=\"file:///build/julia/src/julia-1.7.1/usr/share/julia/stdlib/v1.7/LinearAlgebra/src/uniformscaling.jl\" target=\"_blank\">/usr/share/julia/stdlib/v1.7/LinearAlgebra/src/uniformscaling.jl:513</a></li> <li> muladd(x::<b>LinearAlgebra.Adjoint{T, <:AbstractVector} where T</b>, A::<b>AbstractMatrix</b>, z::<b>Union{Number, AbstractVecOrMat}</b>) in LinearAlgebra at <a href=\"file:///build/julia/src/julia-1.7.1/usr/share/julia/stdlib/v1.7/LinearAlgebra/src/matmul.jl\" target=\"_blank\">/usr/share/julia/stdlib/v1.7/LinearAlgebra/src/matmul.jl:231</a></li> <li> muladd(A::<b>AbstractMatrix</b>, y::<b>AbstractVecOrMat</b>, z::<b>Union{Number, AbstractArray}</b>) in LinearAlgebra at <a href=\"file:///build/julia/src/julia-1.7.1/usr/share/julia/stdlib/v1.7/LinearAlgebra/src/matmul.jl\" target=\"_blank\">/usr/share/julia/stdlib/v1.7/LinearAlgebra/src/matmul.jl:204</a></li> <li> muladd(z::<b>Complex</b>, w::<b>Complex</b>, x::<b>Complex</b>) in Base at <a href=\"https://github.com/JuliaLang/julia/tree/ac5cc99908d463582e66db3368b9b48fae1e2525/base/complex.jl#L293\" target=\"_blank\">complex.jl:293</a></li> <li> muladd(z::<b>Complex</b>, x::<b>Real</b>, y::<b>Real</b>) in Base at <a href=\"https://github.com/JuliaLang/julia/tree/ac5cc99908d463582e66db3368b9b48fae1e2525/base/complex.jl#L337\" target=\"_blank\">complex.jl:337</a></li> <li> muladd(z::<b>Complex</b>, x::<b>Real</b>, w::<b>Complex</b>) in Base at <a href=\"https://github.com/JuliaLang/julia/tree/ac5cc99908d463582e66db3368b9b48fae1e2525/base/complex.jl#L338\" target=\"_blank\">complex.jl:338</a></li> <li> muladd(z::<b>Complex</b>, w::<b>Complex</b>, x::<b>Real</b>) in Base at <a href=\"https://github.com/JuliaLang/julia/tree/ac5cc99908d463582e66db3368b9b48fae1e2525/base/complex.jl#L341\" target=\"_blank\">complex.jl:341</a></li> <li> muladd(x::<b>Float64</b>, y::<b>Float64</b>, z::<b>Float64</b>) in Base at <a href=\"https://github.com/JuliaLang/julia/tree/ac5cc99908d463582e66db3368b9b48fae1e2525/base/float.jl#L412\" target=\"_blank\">float.jl:412</a></li> <li> muladd(x::<b>Float16</b>, y::<b>Float16</b>, z::<b>Float16</b>) in Base at <a href=\"https://github.com/JuliaLang/julia/tree/ac5cc99908d463582e66db3368b9b48fae1e2525/base/float.jl#L410\" target=\"_blank\">float.jl:410</a></li> <li> muladd(x::<b>Float32</b>, y::<b>Float32</b>, z::<b>Float32</b>) in Base at <a href=\"https://github.com/JuliaLang/julia/tree/ac5cc99908d463582e66db3368b9b48fae1e2525/base/float.jl#L411\" target=\"_blank\">float.jl:411</a></li> <li> muladd(x::<b>T</b>, y::<b>T</b>, z::<b>T</b>)<i> where T<:Number</i> in Base at <a href=\"https://github.com/JuliaLang/julia/tree/ac5cc99908d463582e66db3368b9b48fae1e2525/base/promotion.jl#L462\" target=\"_blank\">promotion.jl:462</a></li> <li> muladd(x::<b>Number</b>, y::<b>Number</b>, z::<b>Number</b>) in Base at <a href=\"https://github.com/JuliaLang/julia/tree/ac5cc99908d463582e66db3368b9b48fae1e2525/base/promotion.jl#L416\" target=\"_blank\">promotion.jl:416</a></li> <li> muladd(x, y, z) in Base.Math at <a href=\"https://github.com/JuliaLang/julia/tree/ac5cc99908d463582e66db3368b9b48fae1e2525/base/math.jl#L1160\" target=\"_blank\">math.jl:1160</a></li> </ul>"
      ],
      "text/plain": [
       "# 21 methods for generic function \"muladd\":\n",
       "[1] muladd(A::Union{LinearAlgebra.Adjoint{var\"#s859\", <:StridedMatrix{T} where T}, LinearAlgebra.Transpose{var\"#s859\", <:StridedMatrix{T} where T}, StridedMatrix{var\"#s859\"}} where var\"#s859\"<:Number, y::AbstractVector{<:Number}, z::Union{Number, AbstractVector}) in LinearAlgebra at /usr/share/julia/stdlib/v1.7/LinearAlgebra/src/matmul.jl:238\n",
       "[2] muladd(A::Union{LinearAlgebra.Adjoint{var\"#s859\", <:StridedMatrix{T} where T}, LinearAlgebra.Transpose{var\"#s859\", <:StridedMatrix{T} where T}, StridedMatrix{var\"#s859\"}} where var\"#s859\"<:Number, B::Union{LinearAlgebra.Adjoint{var\"#s858\", <:StridedMatrix{T} where T}, LinearAlgebra.Transpose{var\"#s858\", <:StridedMatrix{T} where T}, StridedMatrix{var\"#s858\"}} where var\"#s858\"<:Number, z::Union{Number, AbstractVecOrMat}) in LinearAlgebra at /usr/share/julia/stdlib/v1.7/LinearAlgebra/src/matmul.jl:245\n",
       "[3] muladd(x::Real, z::Complex, y::Number) in Base at complex.jl:336\n",
       "[4] muladd(x::Real, y::Real, z::Complex) in Base at complex.jl:340\n",
       "[5] muladd(A::LinearAlgebra.UniformScaling, B::LinearAlgebra.UniformScaling, z::LinearAlgebra.UniformScaling) in LinearAlgebra at /usr/share/julia/stdlib/v1.7/LinearAlgebra/src/uniformscaling.jl:511\n",
       "[6] muladd(x::LinearAlgebra.Transpose{T, <:AbstractVector} where T, A::AbstractMatrix, z::Union{Number, AbstractVecOrMat}) in LinearAlgebra at /usr/share/julia/stdlib/v1.7/LinearAlgebra/src/matmul.jl:233\n",
       "[7] muladd(u::AbstractVector, v::Union{LinearAlgebra.Adjoint{T, var\"#s859\"}, LinearAlgebra.Transpose{T, var\"#s859\"}} where {T, var\"#s859\"<:(AbstractVector)}, z::Union{Number, AbstractArray}) in LinearAlgebra at /usr/share/julia/stdlib/v1.7/LinearAlgebra/src/matmul.jl:218\n",
       "[8] muladd(A::LinearAlgebra.Diagonal, B::LinearAlgebra.Diagonal, z::LinearAlgebra.Diagonal) in LinearAlgebra at /usr/share/julia/stdlib/v1.7/LinearAlgebra/src/diagonal.jl:746\n",
       "[9] muladd(A::Union{LinearAlgebra.Diagonal, LinearAlgebra.UniformScaling}, B::Union{LinearAlgebra.Diagonal, LinearAlgebra.UniformScaling}, z::Union{LinearAlgebra.Diagonal, LinearAlgebra.UniformScaling}) in LinearAlgebra at /usr/share/julia/stdlib/v1.7/LinearAlgebra/src/uniformscaling.jl:513\n",
       "[10] muladd(x::LinearAlgebra.Adjoint{T, <:AbstractVector} where T, A::AbstractMatrix, z::Union{Number, AbstractVecOrMat}) in LinearAlgebra at /usr/share/julia/stdlib/v1.7/LinearAlgebra/src/matmul.jl:231\n",
       "[11] muladd(A::AbstractMatrix, y::AbstractVecOrMat, z::Union{Number, AbstractArray}) in LinearAlgebra at /usr/share/julia/stdlib/v1.7/LinearAlgebra/src/matmul.jl:204\n",
       "[12] muladd(z::Complex, w::Complex, x::Complex) in Base at complex.jl:293\n",
       "[13] muladd(z::Complex, x::Real, y::Real) in Base at complex.jl:337\n",
       "[14] muladd(z::Complex, x::Real, w::Complex) in Base at complex.jl:338\n",
       "[15] muladd(z::Complex, w::Complex, x::Real) in Base at complex.jl:341\n",
       "[16] muladd(x::Float64, y::Float64, z::Float64) in Base at float.jl:412\n",
       "[17] muladd(x::Float16, y::Float16, z::Float16) in Base at float.jl:410\n",
       "[18] muladd(x::Float32, y::Float32, z::Float32) in Base at float.jl:411\n",
       "[19] muladd(x::T, y::T, z::T) where T<:Number in Base at promotion.jl:462\n",
       "[20] muladd(x::Number, y::Number, z::Number) in Base at promotion.jl:416\n",
       "[21] muladd(x, y, z) in Base.Math at math.jl:1160"
      ]
     },
     "execution_count": 9,
     "metadata": {},
     "output_type": "execute_result"
    }
   ],
   "source": [
    "methods(muladd)"
   ]
  },
  {
   "cell_type": "markdown",
   "metadata": {},
   "source": [
    "Many of the bugs you can expect to see if you program in Julia arise because a function was called with values for which there is no method. That is, the type signature of the input values was wrong. You solve this in one of two ways\n",
    "- by making sure the input values have the right type signature, or \n",
    "- by writing an additional method for the required type signature"
   ]
  },
  {
   "cell_type": "markdown",
   "metadata": {},
   "source": [
    "[Back to the top](#In-this-lecture)"
   ]
  }
 ],
 "metadata": {
  "hide_input": false,
  "kernelspec": {
   "display_name": "Julia 1.7.1",
   "language": "julia",
   "name": "julia-1.7"
  },
  "language_info": {
   "file_extension": ".jl",
   "mimetype": "application/julia",
   "name": "julia",
   "version": "1.7.1"
  },
  "varInspector": {
   "cols": {
    "lenName": 16,
    "lenType": 16,
    "lenVar": 40
   },
   "kernels_config": {
    "python": {
     "delete_cmd_postfix": "",
     "delete_cmd_prefix": "del ",
     "library": "var_list.py",
     "varRefreshCmd": "print(var_dic_list())"
    },
    "r": {
     "delete_cmd_postfix": ") ",
     "delete_cmd_prefix": "rm(",
     "library": "var_list.r",
     "varRefreshCmd": "cat(var_dic_list()) "
    }
   },
   "types_to_exclude": [
    "module",
    "function",
    "builtin_function_or_method",
    "instance",
    "_Feature"
   ],
   "window_display": false
  }
 },
 "nbformat": 4,
 "nbformat_minor": 1
}
